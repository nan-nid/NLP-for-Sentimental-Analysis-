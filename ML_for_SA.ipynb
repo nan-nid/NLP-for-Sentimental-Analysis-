{
  "nbformat": 4,
  "nbformat_minor": 0,
  "metadata": {
    "colab": {
      "provenance": []
    },
    "kernelspec": {
      "name": "python3",
      "display_name": "Python 3"
    },
    "language_info": {
      "name": "python"
    }
  },
  "cells": [
    {
      "cell_type": "markdown",
      "source": [
        "**Logistic Regression**"
      ],
      "metadata": {
        "id": "3tKK4H27aMTH"
      }
    },
    {
      "cell_type": "code",
      "execution_count": null,
      "metadata": {
        "colab": {
          "base_uri": "https://localhost:8080/"
        },
        "id": "jvlyULLKaH_X",
        "outputId": "f471be9b-35e7-4555-9d3c-872b9f13ff99"
      },
      "outputs": [
        {
          "output_type": "stream",
          "name": "stdout",
          "text": [
            "       textID                                               text  \\\n",
            "0  cb774db0d1                I`d have responded, if I were going   \n",
            "1  549e992a42      Sooo SAD I will miss you here in San Diego!!!   \n",
            "2  088c60f138                          my boss is bullying me...   \n",
            "3  9642c003ef                     what interview! leave me alone   \n",
            "4  358bd9e861   Sons of ****, why couldn`t they put them on t...   \n",
            "\n",
            "                         selected_text sentiment  \n",
            "0  I`d have responded, if I were going   neutral  \n",
            "1                             Sooo SAD  negative  \n",
            "2                          bullying me  negative  \n",
            "3                       leave me alone  negative  \n",
            "4                        Sons of ****,  negative  \n",
            "object\n"
          ]
        }
      ],
      "source": [
        "import pandas as pd\n",
        "from sklearn.feature_extraction.text import TfidfVectorizer\n",
        "from sklearn.linear_model import LogisticRegression\n",
        "from sklearn.model_selection import train_test_split\n",
        "from sklearn.metrics import accuracy_score\n",
        "import re\n",
        "# Load data (replace 'sentiment_data.csv' with your actual file path)\n",
        "data = pd.read_csv('Tweets.csv')\n",
        "print(data.head())\n",
        "print(data['text'].dtype)\n",
        "data['text'] = data['text'].astype(str)\n",
        "# Separate text and sentiment labels\n",
        "text = data['text']\n",
        "sentiment = data['sentiment']  # Assuming sentiment is labeled (0 - negative, 1 - positive)\n"
      ]
    },
    {
      "cell_type": "code",
      "source": [
        "# Text preprocessing (can be extended for more advanced cleaning)\n",
        "def preprocess_text(text):\n",
        "  text = text.lower()  # lowercase\n",
        "  # Remove punctuation and special characters\n",
        "  text = re.sub(r'[^\\w\\s]', '', text)\n",
        "  # Remove stopwords (optional)\n",
        "  # from nltk.corpus import stopwords\n",
        "  # stop_words = stopwords.words('english')\n",
        "  # text = [word for word in text.split() if word not in stop_words]\n",
        "  return text\n",
        "\n",
        "text = [preprocess_text(t) for t in text]\n",
        "\n",
        "# Feature extraction using TF-IDF\n",
        "vectorizer = TfidfVectorizer(max_features=2000)  # Adjust max_features as needed\n",
        "features = vectorizer.fit_transform(text)\n",
        "\n",
        "# Train-test split\n",
        "X_train, X_test, y_train, y_test = train_test_split(features, sentiment, test_size=0.2, random_state=42)\n",
        "\n",
        "# Train Logistic Regression model\n",
        "model = LogisticRegression(solver='lbfgs')\n",
        "model.fit(X_train, y_train)\n",
        "\n",
        "# Make predictions on test data\n",
        "y_pred = model.predict(X_test)\n",
        "\n",
        "# Evaluate model accuracy\n",
        "accuracy = accuracy_score(y_test, y_pred)\n",
        "print(f\"Accuracy: {accuracy:.4f}\")\n",
        "\n",
        "# Predict sentiment for new text (optional)\n",
        "new_text = \"This movie was absolutely fantastic!\"  # Replace with your text\n",
        "new_features = vectorizer.transform([preprocess_text(new_text)])\n",
        "prediction = model.predict(new_features)\n",
        "if prediction[0] == 0:\n",
        "  print(\"Sentiment: Negative\")\n",
        "else:\n",
        "  print(\"Sentiment: Positive\")"
      ],
      "metadata": {
        "colab": {
          "base_uri": "https://localhost:8080/"
        },
        "id": "8Fbz0VH8ch1K",
        "outputId": "f91204a2-c4e3-4749-de5a-c1c55899ce31"
      },
      "execution_count": null,
      "outputs": [
        {
          "output_type": "stream",
          "name": "stdout",
          "text": [
            "Accuracy: 0.6931\n",
            "Sentiment: Positive\n"
          ]
        },
        {
          "output_type": "stream",
          "name": "stderr",
          "text": [
            "/usr/local/lib/python3.10/dist-packages/sklearn/linear_model/_logistic.py:458: ConvergenceWarning: lbfgs failed to converge (status=1):\n",
            "STOP: TOTAL NO. of ITERATIONS REACHED LIMIT.\n",
            "\n",
            "Increase the number of iterations (max_iter) or scale the data as shown in:\n",
            "    https://scikit-learn.org/stable/modules/preprocessing.html\n",
            "Please also refer to the documentation for alternative solver options:\n",
            "    https://scikit-learn.org/stable/modules/linear_model.html#logistic-regression\n",
            "  n_iter_i = _check_optimize_result(\n"
          ]
        }
      ]
    },
    {
      "cell_type": "markdown",
      "source": [
        "**SVM**"
      ],
      "metadata": {
        "id": "LE2ZEng9a9Zn"
      }
    },
    {
      "cell_type": "code",
      "source": [
        "import pandas as pd\n",
        "from sklearn.feature_extraction.text import TfidfVectorizer\n",
        "from sklearn.svm import SVC\n",
        "from sklearn.model_selection import train_test_split\n",
        "from sklearn.metrics import accuracy_score\n",
        "\n",
        "# Load data (replace 'sentiment_data.csv' with your actual file path)\n",
        "data = pd.read_csv('Tweets.csv')\n",
        "print(data.head())\n",
        "print(data['text'].dtype)\n",
        "data['text'] = data['text'].astype(str)\n",
        "# Separate text and sentiment labels\n",
        "text = data['text']\n",
        "sentiment = data['sentiment']  # Assuming sentiment is labeled (0 - negative, 1 - positive)\n",
        "\n"
      ],
      "metadata": {
        "colab": {
          "base_uri": "https://localhost:8080/"
        },
        "id": "lljB-8ZBa_Om",
        "outputId": "c3d5f2fe-7ea3-4d1f-9b0d-ac2067678831"
      },
      "execution_count": null,
      "outputs": [
        {
          "output_type": "stream",
          "name": "stdout",
          "text": [
            "       textID                                               text  \\\n",
            "0  cb774db0d1                I`d have responded, if I were going   \n",
            "1  549e992a42      Sooo SAD I will miss you here in San Diego!!!   \n",
            "2  088c60f138                          my boss is bullying me...   \n",
            "3  9642c003ef                     what interview! leave me alone   \n",
            "4  358bd9e861   Sons of ****, why couldn`t they put them on t...   \n",
            "\n",
            "                         selected_text sentiment  \n",
            "0  I`d have responded, if I were going   neutral  \n",
            "1                             Sooo SAD  negative  \n",
            "2                          bullying me  negative  \n",
            "3                       leave me alone  negative  \n",
            "4                        Sons of ****,  negative  \n",
            "object\n"
          ]
        }
      ]
    },
    {
      "cell_type": "code",
      "source": [
        "# Text preprocessing (can be extended for more advanced cleaning)\n",
        "def preprocess_text(text):\n",
        "  text = text.lower()  # lowercase\n",
        "  # Remove punctuation and special characters\n",
        "  text = re.sub(r'[^\\w\\s]', '', text)\n",
        "  # Remove stopwords (optional)\n",
        "  # from nltk.corpus import stopwords\n",
        "  # stop_words = stopwords.words('english')\n",
        "  # text = [word for word in text.split() if word not in stop_words]\n",
        "  return text\n",
        "\n",
        "text = [preprocess_text(t) for t in text]\n",
        "\n",
        "# Feature extraction using TF-IDF\n",
        "vectorizer = TfidfVectorizer(max_features=2000)  # Adjust max_features as needed\n",
        "features = vectorizer.fit_transform(text)\n",
        "\n",
        "# Train-test split\n",
        "X_train, X_test, y_train, y_test = train_test_split(features, sentiment, test_size=0.2, random_state=42)\n",
        "\n",
        "# Train SVM model\n",
        "model = SVC(kernel='linear')  # Choose kernel (linear, rbf, etc.)\n",
        "model.fit(X_train, y_train)\n",
        "\n",
        "# Make predictions on test data\n",
        "y_pred = model.predict(X_test)\n",
        "\n",
        "# Evaluate model accuracy\n",
        "accuracy = accuracy_score(y_test, y_pred)\n",
        "print(f\"Accuracy: {accuracy:.4f}\")\n",
        "\n",
        "# Predict sentiment for new text (optional)\n",
        "new_text = \"This product is a total disappointment!\"  # Replace with your text\n",
        "new_features = vectorizer.transform([preprocess_text(new_text)])\n",
        "prediction = model.predict(new_features)\n",
        "if prediction[0] == 0:\n",
        "  print(\"Sentiment: Negative\")\n",
        "else:\n",
        "  print(\"Sentiment: Positive\")"
      ],
      "metadata": {
        "colab": {
          "base_uri": "https://localhost:8080/"
        },
        "id": "dDwZD4p6e51r",
        "outputId": "00364e0e-f064-420f-87d6-f4864b8e1e70"
      },
      "execution_count": null,
      "outputs": [
        {
          "output_type": "stream",
          "name": "stdout",
          "text": [
            "Accuracy: 0.7018\n",
            "Sentiment: Positive\n"
          ]
        }
      ]
    },
    {
      "cell_type": "markdown",
      "source": [
        "**Naive Bayes**"
      ],
      "metadata": {
        "id": "Fbm9XMJZbCd4"
      }
    },
    {
      "cell_type": "code",
      "source": [
        "import pandas as pd\n",
        "from sklearn.feature_extraction.text import TfidfVectorizer\n",
        "from sklearn.naive_bayes import MultinomialNB\n",
        "from sklearn.model_selection import train_test_split\n",
        "from sklearn.metrics import accuracy_score\n",
        "\n",
        "# Load data (replace 'sentiment_data.csv' with your actual file path)\n",
        "data = pd.read_csv('Tweets.csv')\n",
        "print(data.head())\n",
        "print(data['text'].dtype)\n",
        "data['text'] = data['text'].astype(str)\n",
        "# Separate text and sentiment labels\n",
        "text = data['text']\n",
        "sentiment = data['sentiment']  # Assuming sentiment is labeled (0 - negative, 1 - positive)\n",
        "\n"
      ],
      "metadata": {
        "colab": {
          "base_uri": "https://localhost:8080/"
        },
        "id": "MI4MsSvZbEn1",
        "outputId": "18ff7539-2fab-40dd-cd3f-f5801c89a366"
      },
      "execution_count": null,
      "outputs": [
        {
          "output_type": "stream",
          "name": "stdout",
          "text": [
            "       textID                                               text  \\\n",
            "0  cb774db0d1                I`d have responded, if I were going   \n",
            "1  549e992a42      Sooo SAD I will miss you here in San Diego!!!   \n",
            "2  088c60f138                          my boss is bullying me...   \n",
            "3  9642c003ef                     what interview! leave me alone   \n",
            "4  358bd9e861   Sons of ****, why couldn`t they put them on t...   \n",
            "\n",
            "                         selected_text sentiment  \n",
            "0  I`d have responded, if I were going   neutral  \n",
            "1                             Sooo SAD  negative  \n",
            "2                          bullying me  negative  \n",
            "3                       leave me alone  negative  \n",
            "4                        Sons of ****,  negative  \n",
            "object\n"
          ]
        }
      ]
    },
    {
      "cell_type": "code",
      "source": [
        "# Text preprocessing (can be extended for more advanced cleaning)\n",
        "def preprocess_text(text):\n",
        "  text = text.lower()  # lowercase\n",
        "  # Remove punctuation and special characters\n",
        "  text = re.sub(r'[^\\w\\s]', '', text)\n",
        "  # Remove stopwords (optional)\n",
        "  # from nltk.corpus import stopwords\n",
        "  # stop_words = stopwords.words('english')\n",
        "  # text = [word for word in text.split() if word not in stop_words]\n",
        "  return text\n",
        "\n",
        "text = [preprocess_text(t) for t in text]\n",
        "\n",
        "# Feature extraction using TF-IDF\n",
        "vectorizer = TfidfVectorizer(max_features=2000)  # Adjust max_features as needed\n",
        "features = vectorizer.fit_transform(text)\n",
        "\n",
        "# Train-test split\n",
        "X_train, X_test, y_train, y_test = train_test_split(features, sentiment, test_size=0.2, random_state=42)\n",
        "\n",
        "# Train Naive Bayes model\n",
        "model = MultinomialNB()\n",
        "model.fit(X_train, y_train)\n",
        "\n",
        "# Make predictions on test data\n",
        "y_pred = model.predict(X_test)\n",
        "\n",
        "# Evaluate model accuracy\n",
        "accuracy = accuracy_score(y_test, y_pred)\n",
        "print(f\"Accuracy: {accuracy:.4f}\")\n",
        "\n",
        "# Predict sentiment for new text (optional)\n",
        "new_text = \"I'm very happy with this service!\"  # Replace with your text\n",
        "new_features = vectorizer.transform([preprocess_text(new_text)])\n",
        "prediction = model.predict(new_features)\n",
        "if prediction[0] == 0:\n",
        "  print(\"Sentiment: Negative\")\n",
        "else:\n",
        "  print(\"Sentiment: Positive\")\n"
      ],
      "metadata": {
        "colab": {
          "base_uri": "https://localhost:8080/"
        },
        "id": "MhQ-YdXqgiH9",
        "outputId": "7934e674-d031-42f2-a18b-40451bbddf26"
      },
      "execution_count": null,
      "outputs": [
        {
          "output_type": "stream",
          "name": "stdout",
          "text": [
            "Accuracy: 0.6442\n",
            "Sentiment: Positive\n"
          ]
        }
      ]
    }
  ]
}